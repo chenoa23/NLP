{
  "nbformat": 4,
  "nbformat_minor": 0,
  "metadata": {
    "colab": {
      "provenance": [],
      "gpuType": "T4",
      "authorship_tag": "ABX9TyN4kmZ7PMDW4z0hjxGtW4MR",
      "include_colab_link": true
    },
    "kernelspec": {
      "name": "python3",
      "display_name": "Python 3"
    },
    "language_info": {
      "name": "python"
    },
    "accelerator": "GPU"
  },
  "cells": [
    {
      "cell_type": "markdown",
      "metadata": {
        "id": "view-in-github",
        "colab_type": "text"
      },
      "source": [
        "<a href=\"https://colab.research.google.com/github/chenoa23/NLP/blob/main/Exploring_Together_AI_to_Build_a_Custom_Application_in_Colab.ipynb\" target=\"_parent\"><img src=\"https://colab.research.google.com/assets/colab-badge.svg\" alt=\"Open In Colab\"/></a>"
      ]
    },
    {
      "cell_type": "markdown",
      "source": [
        "## Chenoa Nussberger\n",
        "\n",
        "- **Account Setup:**\\\n",
        "Visit Together AI Links to an external site. and create a free account.\n",
        "Alternatively, you may use the provided Together AI token:\n",
        "Token: 207fee5eecff4d87a306a8566da4cd025ae6b252d14302d980dab27a618033f9.\n",
        "- **Application Development:**\\\n",
        "  -Use Colab to build a custom application that utilizes Together AI’s models and APIs.\n",
        "\n",
        "  -You may:\n",
        "\n",
        "    - Start with one of the example applications from Together AI’s demos Links to an external site..\n",
        "    - Use a template or concept provided in class.\n",
        "    - Explore models such as translation, text-to-code, chat assistants, text summarization, or other capabilities.\n",
        "- Important: Modify the starter template or demo application to make it unique.\n",
        "Examples of modifications include:\n",
        "  - Changing the use case.\n",
        "  - Adding new features or functionality.\n",
        "  - Adjusting the interface or output format.\n",
        "\n",
        "**Documentation:**\n",
        "\n",
        " - Include comments in your Colab notebook to explain:\n",
        "  - The purpose of your application.\n",
        "  - How it uses Together AI’s capabilities.\n",
        "  - Specific modifications you made.\n",
        "\n",
        "**Business Use Case and Value:**\n",
        "\n",
        "- Write a two-paragraph summary in the final cell of your Colab notebook.\n",
        "- Address the following:\n",
        "  - Business Use Case: Describe the problem your application solves or the opportunity it addresses.\\\n",
        "  For example: “This app generates customer service scripts for businesses, reducing response times and improving customer satisfaction.”\n",
        "  - Business Value: Highlight the value your app provides to businesses.\\\n",
        "  For example: “By automating customer interactions, businesses can save up to 30% on operational costs while maintaining a high standard of service.”"
      ],
      "metadata": {
        "id": "uqJaU2SKG2Oh"
      }
    },
    {
      "cell_type": "code",
      "source": [
        "!git clone https://github.com/TogetherAI/PDFToChat.git"
      ],
      "metadata": {
        "colab": {
          "base_uri": "https://localhost:8080/"
        },
        "id": "Icm7Q2b79aQr",
        "outputId": "ff307a04-dd2e-4fcb-9661-7fdf2fdbabd6"
      },
      "execution_count": null,
      "outputs": [
        {
          "output_type": "stream",
          "name": "stdout",
          "text": [
            "Cloning into 'PDFToChat'...\n",
            "fatal: could not read Username for 'https://github.com': No such device or address\n"
          ]
        }
      ]
    },
    {
      "cell_type": "code",
      "source": [
        "%cd PDFToChat\n",
        "!pip install -r requirements.txt"
      ],
      "metadata": {
        "colab": {
          "base_uri": "https://localhost:8080/"
        },
        "id": "94LHmRZh9cGC",
        "outputId": "cf58a92b-7bf6-41b5-c851-585dd7fc256a"
      },
      "execution_count": null,
      "outputs": [
        {
          "output_type": "stream",
          "name": "stdout",
          "text": [
            "[Errno 2] No such file or directory: 'PDFToChat'\n",
            "/content\n",
            "\u001b[31mERROR: Could not open requirements file: [Errno 2] No such file or directory: 'requirements.txt'\u001b[0m\u001b[31m\n",
            "\u001b[0m"
          ]
        }
      ]
    },
    {
      "cell_type": "code",
      "source": [
        "API_TOKEN = \"207fee5eecff4d87a306a8566da4cd025ae6b252d14302d980dab27a618033f9\""
      ],
      "metadata": {
        "id": "CRax2kRb9f1N"
      },
      "execution_count": null,
      "outputs": []
    },
    {
      "cell_type": "code",
      "source": [
        "!pip install together"
      ],
      "metadata": {
        "colab": {
          "base_uri": "https://localhost:8080/"
        },
        "id": "wDhm6hvB9pwA",
        "outputId": "f677af5c-9848-4502-9040-4aee5d2ca9e3"
      },
      "execution_count": null,
      "outputs": [
        {
          "output_type": "stream",
          "name": "stdout",
          "text": [
            "Requirement already satisfied: together in /usr/local/lib/python3.10/dist-packages (1.3.5)\n",
            "Requirement already satisfied: aiohttp<4.0.0,>=3.9.3 in /usr/local/lib/python3.10/dist-packages (from together) (3.11.2)\n",
            "Requirement already satisfied: click<9.0.0,>=8.1.7 in /usr/local/lib/python3.10/dist-packages (from together) (8.1.7)\n",
            "Requirement already satisfied: eval-type-backport<0.3.0,>=0.1.3 in /usr/local/lib/python3.10/dist-packages (from together) (0.2.0)\n",
            "Requirement already satisfied: filelock<4.0.0,>=3.13.1 in /usr/local/lib/python3.10/dist-packages (from together) (3.16.1)\n",
            "Requirement already satisfied: numpy>=1.23.5 in /usr/local/lib/python3.10/dist-packages (from together) (1.26.4)\n",
            "Requirement already satisfied: pillow<11.0.0,>=10.3.0 in /usr/local/lib/python3.10/dist-packages (from together) (10.4.0)\n",
            "Requirement already satisfied: pyarrow>=10.0.1 in /usr/local/lib/python3.10/dist-packages (from together) (17.0.0)\n",
            "Requirement already satisfied: pydantic<3.0.0,>=2.6.3 in /usr/local/lib/python3.10/dist-packages (from together) (2.9.2)\n",
            "Requirement already satisfied: requests<3.0.0,>=2.31.0 in /usr/local/lib/python3.10/dist-packages (from together) (2.32.3)\n",
            "Requirement already satisfied: rich<14.0.0,>=13.8.1 in /usr/local/lib/python3.10/dist-packages (from together) (13.9.4)\n",
            "Requirement already satisfied: tabulate<0.10.0,>=0.9.0 in /usr/local/lib/python3.10/dist-packages (from together) (0.9.0)\n",
            "Requirement already satisfied: tqdm<5.0.0,>=4.66.2 in /usr/local/lib/python3.10/dist-packages (from together) (4.66.6)\n",
            "Requirement already satisfied: typer<0.14,>=0.9 in /usr/local/lib/python3.10/dist-packages (from together) (0.13.0)\n",
            "Requirement already satisfied: aiohappyeyeballs>=2.3.0 in /usr/local/lib/python3.10/dist-packages (from aiohttp<4.0.0,>=3.9.3->together) (2.4.3)\n",
            "Requirement already satisfied: aiosignal>=1.1.2 in /usr/local/lib/python3.10/dist-packages (from aiohttp<4.0.0,>=3.9.3->together) (1.3.1)\n",
            "Requirement already satisfied: attrs>=17.3.0 in /usr/local/lib/python3.10/dist-packages (from aiohttp<4.0.0,>=3.9.3->together) (24.2.0)\n",
            "Requirement already satisfied: frozenlist>=1.1.1 in /usr/local/lib/python3.10/dist-packages (from aiohttp<4.0.0,>=3.9.3->together) (1.5.0)\n",
            "Requirement already satisfied: multidict<7.0,>=4.5 in /usr/local/lib/python3.10/dist-packages (from aiohttp<4.0.0,>=3.9.3->together) (6.1.0)\n",
            "Requirement already satisfied: propcache>=0.2.0 in /usr/local/lib/python3.10/dist-packages (from aiohttp<4.0.0,>=3.9.3->together) (0.2.0)\n",
            "Requirement already satisfied: yarl<2.0,>=1.17.0 in /usr/local/lib/python3.10/dist-packages (from aiohttp<4.0.0,>=3.9.3->together) (1.17.2)\n",
            "Requirement already satisfied: async-timeout<6.0,>=4.0 in /usr/local/lib/python3.10/dist-packages (from aiohttp<4.0.0,>=3.9.3->together) (4.0.3)\n",
            "Requirement already satisfied: annotated-types>=0.6.0 in /usr/local/lib/python3.10/dist-packages (from pydantic<3.0.0,>=2.6.3->together) (0.7.0)\n",
            "Requirement already satisfied: pydantic-core==2.23.4 in /usr/local/lib/python3.10/dist-packages (from pydantic<3.0.0,>=2.6.3->together) (2.23.4)\n",
            "Requirement already satisfied: typing-extensions>=4.6.1 in /usr/local/lib/python3.10/dist-packages (from pydantic<3.0.0,>=2.6.3->together) (4.12.2)\n",
            "Requirement already satisfied: charset-normalizer<4,>=2 in /usr/local/lib/python3.10/dist-packages (from requests<3.0.0,>=2.31.0->together) (3.4.0)\n",
            "Requirement already satisfied: idna<4,>=2.5 in /usr/local/lib/python3.10/dist-packages (from requests<3.0.0,>=2.31.0->together) (3.10)\n",
            "Requirement already satisfied: urllib3<3,>=1.21.1 in /usr/local/lib/python3.10/dist-packages (from requests<3.0.0,>=2.31.0->together) (2.2.3)\n",
            "Requirement already satisfied: certifi>=2017.4.17 in /usr/local/lib/python3.10/dist-packages (from requests<3.0.0,>=2.31.0->together) (2024.8.30)\n",
            "Requirement already satisfied: markdown-it-py>=2.2.0 in /usr/local/lib/python3.10/dist-packages (from rich<14.0.0,>=13.8.1->together) (3.0.0)\n",
            "Requirement already satisfied: pygments<3.0.0,>=2.13.0 in /usr/local/lib/python3.10/dist-packages (from rich<14.0.0,>=13.8.1->together) (2.18.0)\n",
            "Requirement already satisfied: shellingham>=1.3.0 in /usr/local/lib/python3.10/dist-packages (from typer<0.14,>=0.9->together) (1.5.4)\n",
            "Requirement already satisfied: mdurl~=0.1 in /usr/local/lib/python3.10/dist-packages (from markdown-it-py>=2.2.0->rich<14.0.0,>=13.8.1->together) (0.1.2)\n"
          ]
        }
      ]
    },
    {
      "cell_type": "code",
      "source": [
        "# Import Together library\n",
        "from together import Together\n",
        "\n",
        "# Initialize Together client with the provided API token\n",
        "together_client = Together(api_key=\"207fee5eecff4d87a306a8566da4cd025ae6b252d14302d980dab27a618033f9\")\n",
        "\n",
        "# This function sends a request to the Together AI API to generate a summary of a given document text.\n",
        "# The API uses the \"Meta-Llama-3.1-8B-Instruct-Turbo\" model to process the text and provide a summary.\n",
        "def summarize_text(document_text):\n",
        "    # Sending text to the Together API for summarization\n",
        "    response = together_client.chat.completions.create(\n",
        "        model=\"meta-llama/Meta-Llama-3.1-8B-Instruct-Turbo\",  # Choosing the appropriate model\n",
        "        messages=[{\"role\": \"user\", \"content\": f\"Summarize the following text: {document_text}\"}]  # Pass the document text\n",
        "    )\n",
        "\n",
        "    # Extracting the summary from the response. The response contains choices where the summary is stored.\n",
        "    summary = response.choices[0].message.content\n",
        "    return summary  # Return the summary text\n",
        "\n",
        "# Example usage: input document text for summarization\n",
        "doc_text = \"\"\"\n",
        "In this document, we explore the concept of AI-driven applications and their impact on various industries.\n",
        "Artificial Intelligence (AI) has revolutionized the way businesses operate, offering solutions that were previously impossible to achieve.\n",
        "From automating mundane tasks to enabling complex decision-making, AI has become an essential tool in modern enterprises.\n",
        "\"\"\"\n",
        "\n",
        "# Call the summarize_text function with the example document\n",
        "summary = summarize_text(doc_text)\n",
        "\n",
        "# Print the summary to see the result\n",
        "print(\"Summary:\", summary)\n"
      ],
      "metadata": {
        "colab": {
          "base_uri": "https://localhost:8080/"
        },
        "id": "9sg82CMD9jLd",
        "outputId": "357e3e2c-36e4-4b5c-d9e3-a83d3d7a2379"
      },
      "execution_count": null,
      "outputs": [
        {
          "output_type": "stream",
          "name": "stdout",
          "text": [
            "Summary: The text discusses the impact of Artificial Intelligence (AI) on various industries, highlighting its ability to revolutionize business operations by automating tasks and enabling complex decision-making.\n"
          ]
        }
      ]
    },
    {
      "cell_type": "markdown",
      "source": [
        "## Business Use Case:\n",
        "This app helps businesses by summarizing long documents, saving time for employees. It's useful in industries like law or content creation, where staff need to read and understand large amounts of text quickly.\n",
        "\n",
        "## Business Value:\n",
        "Automating summarization reduces the time employees spend reading, letting them focus on more important tasks. This can lead to time savings and increased efficiency, helping businesses cut costs and make decisions faster.\n"
      ],
      "metadata": {
        "id": "MFXhEwbu_-Q1"
      }
    }
  ]
}