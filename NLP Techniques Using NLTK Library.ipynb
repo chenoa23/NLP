{
  "nbformat": 4,
  "nbformat_minor": 0,
  "metadata": {
    "colab": {
      "provenance": [],
      "machine_shape": "hm",
      "gpuType": "A100",
      "include_colab_link": true
    },
    "kernelspec": {
      "name": "python3",
      "display_name": "Python 3"
    },
    "language_info": {
      "name": "python"
    },
    "accelerator": "GPU"
  },
  "cells": [
    {
      "cell_type": "markdown",
      "metadata": {
        "id": "view-in-github",
        "colab_type": "text"
      },
      "source": [
        "<a href=\"https://colab.research.google.com/github/chenoa23/NLP-Projects/blob/main/NLP%20Techniques%20Using%20NLTK%20Library.ipynb\" target=\"_parent\"><img src=\"https://colab.research.google.com/assets/colab-badge.svg\" alt=\"Open In Colab\"/></a>"
      ]
    },
    {
      "cell_type": "markdown",
      "source": [
        "##This project demonstrates key Natural Language Processing (NLP) techniques using the NLTK library in Python. It covers foundational text preprocessing tasks such as tokenization, stemming, lemmatization, stopword removal, and part-of-speech (POS) tagging. Additionally, it shows how to clean and prepare textual data by removing punctuation and irrelevant words, extract named entities, and represent text numerically using the Bag of Words (BoW) model for downstream analysis or machine learning. The goal is to illustrate how raw text can be transformed into a structured and meaningful format, which is a critical step for any NLP or text classification task."
      ],
      "metadata": {
        "id": "Ew3WOxUrl29L"
      }
    },
    {
      "cell_type": "code",
      "execution_count": null,
      "metadata": {
        "id": "hsgFjIvyyab8",
        "colab": {
          "base_uri": "https://localhost:8080/"
        },
        "outputId": "1c9cd3ab-6e5d-4f34-a1c2-d495a0037836"
      },
      "outputs": [
        {
          "output_type": "stream",
          "name": "stderr",
          "text": [
            "[nltk_data] Downloading package punkt to /root/nltk_data...\n",
            "[nltk_data]   Unzipping tokenizers/punkt.zip.\n",
            "[nltk_data] Downloading package stopwords to /root/nltk_data...\n",
            "[nltk_data]   Unzipping corpora/stopwords.zip.\n",
            "[nltk_data] Downloading package wordnet to /root/nltk_data...\n",
            "[nltk_data] Downloading package averaged_perceptron_tagger to\n",
            "[nltk_data]     /root/nltk_data...\n",
            "[nltk_data]   Unzipping taggers/averaged_perceptron_tagger.zip.\n",
            "[nltk_data] Downloading package maxent_ne_chunker to\n",
            "[nltk_data]     /root/nltk_data...\n",
            "[nltk_data]   Unzipping chunkers/maxent_ne_chunker.zip.\n",
            "[nltk_data] Downloading package words to /root/nltk_data...\n",
            "[nltk_data]   Unzipping corpora/words.zip.\n"
          ]
        },
        {
          "output_type": "execute_result",
          "data": {
            "text/plain": [
              "True"
            ]
          },
          "metadata": {},
          "execution_count": 1
        }
      ],
      "source": [
        "# Import your standard Python PP Libs\n",
        "import nltk\n",
        "nltk.download('punkt')\n",
        "nltk.download('stopwords')\n",
        "nltk.download('wordnet')\n",
        "nltk.download('averaged_perceptron_tagger')\n",
        "nltk.download('maxent_ne_chunker')\n",
        "nltk.download('words')"
      ]
    },
    {
      "cell_type": "code",
      "source": [
        "data = ''' Miami Dade College, known locally as MDC, is an institution of higher education in\n",
        "Southeast Florida. It is the largest college by enrollment in the United States,\n",
        "with the most diverse student body, and is recognized as a prominent educational\n",
        "establishment in the nation. '''"
      ],
      "metadata": {
        "id": "RrnJHUNu0Nmt"
      },
      "execution_count": null,
      "outputs": []
    },
    {
      "cell_type": "code",
      "source": [
        "nltk.sent_tokenize(data)"
      ],
      "metadata": {
        "colab": {
          "base_uri": "https://localhost:8080/"
        },
        "id": "En1yOArl0hjt",
        "outputId": "9242cbd1-5992-455e-d5c4-0fa99b41a543"
      },
      "execution_count": null,
      "outputs": [
        {
          "output_type": "execute_result",
          "data": {
            "text/plain": [
              "[' Miami Dade College, known locally as MDC, is an institution of higher education in\\nSoutheast Florida.',\n",
              " 'It is the largest college by enrollment in the United States,\\nwith the most diverse student body, and is recognized as a prominent educational\\nestablishment in the nation.']"
            ]
          },
          "metadata": {},
          "execution_count": 3
        }
      ]
    },
    {
      "cell_type": "code",
      "source": [
        "nltk.word_tokenize(data)"
      ],
      "metadata": {
        "colab": {
          "base_uri": "https://localhost:8080/"
        },
        "id": "nfvNpjJa0uXN",
        "outputId": "9f306e9d-3264-476a-9845-4bdad301687c"
      },
      "execution_count": null,
      "outputs": [
        {
          "output_type": "execute_result",
          "data": {
            "text/plain": [
              "['Miami',\n",
              " 'Dade',\n",
              " 'College',\n",
              " ',',\n",
              " 'known',\n",
              " 'locally',\n",
              " 'as',\n",
              " 'MDC',\n",
              " ',',\n",
              " 'is',\n",
              " 'an',\n",
              " 'institution',\n",
              " 'of',\n",
              " 'higher',\n",
              " 'education',\n",
              " 'in',\n",
              " 'Southeast',\n",
              " 'Florida',\n",
              " '.',\n",
              " 'It',\n",
              " 'is',\n",
              " 'the',\n",
              " 'largest',\n",
              " 'college',\n",
              " 'by',\n",
              " 'enrollment',\n",
              " 'in',\n",
              " 'the',\n",
              " 'United',\n",
              " 'States',\n",
              " ',',\n",
              " 'with',\n",
              " 'the',\n",
              " 'most',\n",
              " 'diverse',\n",
              " 'student',\n",
              " 'body',\n",
              " ',',\n",
              " 'and',\n",
              " 'is',\n",
              " 'recognized',\n",
              " 'as',\n",
              " 'a',\n",
              " 'prominent',\n",
              " 'educational',\n",
              " 'establishment',\n",
              " 'in',\n",
              " 'the',\n",
              " 'nation',\n",
              " '.']"
            ]
          },
          "metadata": {},
          "execution_count": 4
        }
      ]
    },
    {
      "cell_type": "code",
      "source": [
        "from nltk.stem import PorterStemmer\n",
        "from nltk.stem import LancasterStemmer, SnowballStemmer\n",
        "from nltk.corpus import stopwords"
      ],
      "metadata": {
        "id": "HQL3jivT072H"
      },
      "execution_count": null,
      "outputs": []
    },
    {
      "cell_type": "code",
      "source": [
        "lancaster = LancasterStemmer()\n",
        "porter = PorterStemmer()\n",
        "Snowball = SnowballStemmer(\"english\")\n",
        "print('Porter stemmer')\n",
        "print(porter.stem(\"hobby\"))\n",
        "print(porter.stem(\"hobbies\"))\n",
        "print(porter.stem(\"computer\"))\n",
        "print(porter.stem(\"computation\"))\n",
        "print(\"**************************\")\n",
        "print('lancaster stemmer')\n",
        "print(lancaster.stem(\"hobby\"))\n",
        "print(lancaster.stem(\"hobbies\"))\n",
        "print(lancaster.stem(\"computer\"))\n",
        "print(porter.stem(\"computation\"))\n",
        "print(\"**************************\")\n",
        "print('Snowball stemmer')\n",
        "print(Snowball.stem(\"hobby\"))\n",
        "print(Snowball.stem(\"hobbies\"))\n",
        "print(Snowball.stem(\"computer\"))\n",
        "print(Snowball.stem(\"computation\"))"
      ],
      "metadata": {
        "colab": {
          "base_uri": "https://localhost:8080/"
        },
        "id": "WCVKZ_f61AWd",
        "outputId": "492a32b1-28b8-433c-c91d-4525c91897b6"
      },
      "execution_count": null,
      "outputs": [
        {
          "output_type": "stream",
          "name": "stdout",
          "text": [
            "Porter stemmer\n",
            "hobbi\n",
            "hobbi\n",
            "comput\n",
            "comput\n",
            "**************************\n",
            "lancaster stemmer\n",
            "hobby\n",
            "hobby\n",
            "comput\n",
            "comput\n",
            "**************************\n",
            "Snowball stemmer\n",
            "hobbi\n",
            "hobbi\n",
            "comput\n",
            "comput\n"
          ]
        }
      ]
    },
    {
      "cell_type": "code",
      "source": [
        "sent = \"I was going to the office on my bike when\\\n",
        "i saw a car passing by hit the tree.\"\n",
        "token = list(nltk.word_tokenize(sent))\n",
        "for stemmer in (Snowball, lancaster, porter):\n",
        "    stemm = [stemmer.stem(t) for t in token]\n",
        "    print(\" \".join(stemm))"
      ],
      "metadata": {
        "colab": {
          "base_uri": "https://localhost:8080/"
        },
        "id": "Gvo-dk3y2I0J",
        "outputId": "5e2dca4e-7b3d-4b1b-a5ef-27362f905c9a"
      },
      "execution_count": null,
      "outputs": [
        {
          "output_type": "stream",
          "name": "stdout",
          "text": [
            "i was go to the offic on my bike wheni saw a car pass by hit the tree .\n",
            "i was going to the off on my bik when saw a car pass by hit the tre .\n",
            "i wa go to the offic on my bike wheni saw a car pass by hit the tree .\n"
          ]
        }
      ]
    },
    {
      "cell_type": "code",
      "source": [
        "paragraph = \"\"\"Miami Dade College has evolved over decades, becoming a beacon of education in the diverse fabric of Miami. Throughout its existence, students from all corners of the globe have converged here, seeking knowledge and growth. Like India, MDC has seen the influx of various cultures, enriching its own identity without dominating any. This hasn't led MDC to impose its ethos elsewhere, but rather to build a unique educational culture that respects the freedom of thought and diversity. This is the cornerstone of my first vision for MDC - freedom in education.\n",
        "\n",
        "This freedom was envisaged at its founding, setting the stage for an academic revolution. It is this freedom that MDC must continue to cherish, fostering an environment where respect is earned through the empowerment of knowledge.\n",
        "\n",
        "My second vision is for MDC's advancement. For years, we have been an institution nurturing potential. Now, it's time we recognize ourselves as a leader in education, one of the most influential colleges nationwide. We've seen growth in student success, decreases in educational inequity, and our contributions are gaining recognition. Yet, we sometimes hesitate to see ourselves as a hub of advanced education, independent and confident. This must change.\n",
        "\n",
        "My third vision is for MDC to assert itself globally. Respect comes with recognition, and recognition is born of strength—not just in academic excellence but in our ability to impact the community and economy positively. Strength in education fosters respect globally.\n",
        "\n",
        "I have been fortunate to work alongside remarkable educators—innovators in teaching and administration. Their mentorship was an invaluable chapter in my life. At MDC, I see these interactions as key milestones in my career, guiding our collective journey towards these three visions.\"\"\""
      ],
      "metadata": {
        "id": "etbtrIeL2cSo"
      },
      "execution_count": null,
      "outputs": []
    },
    {
      "cell_type": "code",
      "source": [
        "sentences = nltk.sent_tokenize(paragraph)\n",
        "stemmer = PorterStemmer()\n",
        "\n",
        "\n",
        "# Stemming\n",
        "for i in range(len(sentences)):\n",
        "    words = nltk.word_tokenize(sentences[i])\n",
        "    words = [stemmer.stem(word) for word in words if word not in set(stopwords.words('english'))]\n",
        "    sentences[i] = ' '.join(words)\n",
        "\n",
        "sentences"
      ],
      "metadata": {
        "colab": {
          "base_uri": "https://localhost:8080/"
        },
        "id": "5HiYttId2fIW",
        "outputId": "1ef20ddb-44f1-41ba-dcc0-11164276eed8"
      },
      "execution_count": null,
      "outputs": [
        {
          "output_type": "execute_result",
          "data": {
            "text/plain": [
              "['miami dade colleg evolv decad , becom beacon educ divers fabric miami .',\n",
              " 'throughout exist , student corner globe converg , seek knowledg growth .',\n",
              " 'like india , mdc seen influx variou cultur , enrich ident without domin .',\n",
              " \"thi n't led mdc impos etho elsewher , rather build uniqu educ cultur respect freedom thought divers .\",\n",
              " 'thi cornerston first vision mdc - freedom educ .',\n",
              " 'thi freedom envisag found , set stage academ revolut .',\n",
              " 'it freedom mdc must continu cherish , foster environ respect earn empower knowledg .',\n",
              " \"my second vision mdc 's advanc .\",\n",
              " 'for year , institut nurtur potenti .',\n",
              " \"now , 's time recogn leader educ , one influenti colleg nationwid .\",\n",
              " \"we 've seen growth student success , decreas educ inequ , contribut gain recognit .\",\n",
              " 'yet , sometim hesit see hub advanc educ , independ confid .',\n",
              " 'thi must chang .',\n",
              " 'my third vision mdc assert global .',\n",
              " 'respect come recognit , recognit born strength—not academ excel abil impact commun economi posit .',\n",
              " 'strength educ foster respect global .',\n",
              " 'i fortun work alongsid remark educators—innov teach administr .',\n",
              " 'their mentorship invalu chapter life .',\n",
              " 'at mdc , i see interact key mileston career , guid collect journey toward three vision .']"
            ]
          },
          "metadata": {},
          "execution_count": 9
        }
      ]
    },
    {
      "cell_type": "code",
      "source": [
        "# Lemmatize:  take each word and run it through a dictionary and we are going to evaluate the \"best\" base word\n",
        "\n",
        "from nltk.stem import WordNetLemmatizer"
      ],
      "metadata": {
        "id": "PwXG-zVB3KvW"
      },
      "execution_count": null,
      "outputs": []
    },
    {
      "cell_type": "code",
      "source": [
        "lemma = WordNetLemmatizer()\n",
        "\n",
        "print(lemma.lemmatize('running'))\n",
        "print(lemma.lemmatize('runs'))\n",
        "print(lemma.lemmatize('ran'))"
      ],
      "metadata": {
        "colab": {
          "base_uri": "https://localhost:8080/"
        },
        "id": "1hA2FEFh3peG",
        "outputId": "04cdb8c3-c8ee-4696-b64f-4b7fc44d228f"
      },
      "execution_count": null,
      "outputs": [
        {
          "output_type": "stream",
          "name": "stdout",
          "text": [
            "running\n",
            "run\n",
            "ran\n"
          ]
        }
      ]
    },
    {
      "cell_type": "code",
      "source": [
        "sentences = nltk.sent_tokenize(paragraph)\n",
        "lemmatizer = WordNetLemmatizer()\n",
        "\n",
        "# Lemmatization\n",
        "for i in range(len(sentences)):\n",
        "    words = nltk.word_tokenize(sentences[i])\n",
        "    words = [lemmatizer.lemmatize(word) for word in words if word not in set(stopwords.words('english'))]\n",
        "    sentences[i] = ' '.join(words)\n",
        "\n",
        "sentences"
      ],
      "metadata": {
        "colab": {
          "base_uri": "https://localhost:8080/"
        },
        "id": "EQar8vB93vo6",
        "outputId": "3d42e8e2-8f2d-4cee-cf83-a3e17a5608b5"
      },
      "execution_count": null,
      "outputs": [
        {
          "output_type": "execute_result",
          "data": {
            "text/plain": [
              "['Miami Dade College evolved decade , becoming beacon education diverse fabric Miami .',\n",
              " 'Throughout existence , student corner globe converged , seeking knowledge growth .',\n",
              " 'Like India , MDC seen influx various culture , enriching identity without dominating .',\n",
              " \"This n't led MDC impose ethos elsewhere , rather build unique educational culture respect freedom thought diversity .\",\n",
              " 'This cornerstone first vision MDC - freedom education .',\n",
              " 'This freedom envisaged founding , setting stage academic revolution .',\n",
              " 'It freedom MDC must continue cherish , fostering environment respect earned empowerment knowledge .',\n",
              " \"My second vision MDC 's advancement .\",\n",
              " 'For year , institution nurturing potential .',\n",
              " \"Now , 's time recognize leader education , one influential college nationwide .\",\n",
              " \"We 've seen growth student success , decrease educational inequity , contribution gaining recognition .\",\n",
              " 'Yet , sometimes hesitate see hub advanced education , independent confident .',\n",
              " 'This must change .',\n",
              " 'My third vision MDC assert globally .',\n",
              " 'Respect come recognition , recognition born strength—not academic excellence ability impact community economy positively .',\n",
              " 'Strength education foster respect globally .',\n",
              " 'I fortunate work alongside remarkable educators—innovators teaching administration .',\n",
              " 'Their mentorship invaluable chapter life .',\n",
              " 'At MDC , I see interaction key milestone career , guiding collective journey towards three vision .']"
            ]
          },
          "metadata": {},
          "execution_count": 12
        }
      ]
    },
    {
      "cell_type": "code",
      "source": [
        "# Stop Words:  words that help us \"glue\" sentences together but have no NLP value... \"of\", \"the\", etc.\n",
        "\n",
        "from nltk.corpus import stopwords\n",
        "stop_words = stopwords.words('english')\n",
        "stop_words\n",
        "\n"
      ],
      "metadata": {
        "colab": {
          "base_uri": "https://localhost:8080/"
        },
        "id": "4CF6PVsd4VPF",
        "outputId": "becb864b-61cd-488f-d998-dc8717322938"
      },
      "execution_count": null,
      "outputs": [
        {
          "output_type": "execute_result",
          "data": {
            "text/plain": [
              "['i',\n",
              " 'me',\n",
              " 'my',\n",
              " 'myself',\n",
              " 'we',\n",
              " 'our',\n",
              " 'ours',\n",
              " 'ourselves',\n",
              " 'you',\n",
              " \"you're\",\n",
              " \"you've\",\n",
              " \"you'll\",\n",
              " \"you'd\",\n",
              " 'your',\n",
              " 'yours',\n",
              " 'yourself',\n",
              " 'yourselves',\n",
              " 'he',\n",
              " 'him',\n",
              " 'his',\n",
              " 'himself',\n",
              " 'she',\n",
              " \"she's\",\n",
              " 'her',\n",
              " 'hers',\n",
              " 'herself',\n",
              " 'it',\n",
              " \"it's\",\n",
              " 'its',\n",
              " 'itself',\n",
              " 'they',\n",
              " 'them',\n",
              " 'their',\n",
              " 'theirs',\n",
              " 'themselves',\n",
              " 'what',\n",
              " 'which',\n",
              " 'who',\n",
              " 'whom',\n",
              " 'this',\n",
              " 'that',\n",
              " \"that'll\",\n",
              " 'these',\n",
              " 'those',\n",
              " 'am',\n",
              " 'is',\n",
              " 'are',\n",
              " 'was',\n",
              " 'were',\n",
              " 'be',\n",
              " 'been',\n",
              " 'being',\n",
              " 'have',\n",
              " 'has',\n",
              " 'had',\n",
              " 'having',\n",
              " 'do',\n",
              " 'does',\n",
              " 'did',\n",
              " 'doing',\n",
              " 'a',\n",
              " 'an',\n",
              " 'the',\n",
              " 'and',\n",
              " 'but',\n",
              " 'if',\n",
              " 'or',\n",
              " 'because',\n",
              " 'as',\n",
              " 'until',\n",
              " 'while',\n",
              " 'of',\n",
              " 'at',\n",
              " 'by',\n",
              " 'for',\n",
              " 'with',\n",
              " 'about',\n",
              " 'against',\n",
              " 'between',\n",
              " 'into',\n",
              " 'through',\n",
              " 'during',\n",
              " 'before',\n",
              " 'after',\n",
              " 'above',\n",
              " 'below',\n",
              " 'to',\n",
              " 'from',\n",
              " 'up',\n",
              " 'down',\n",
              " 'in',\n",
              " 'out',\n",
              " 'on',\n",
              " 'off',\n",
              " 'over',\n",
              " 'under',\n",
              " 'again',\n",
              " 'further',\n",
              " 'then',\n",
              " 'once',\n",
              " 'here',\n",
              " 'there',\n",
              " 'when',\n",
              " 'where',\n",
              " 'why',\n",
              " 'how',\n",
              " 'all',\n",
              " 'any',\n",
              " 'both',\n",
              " 'each',\n",
              " 'few',\n",
              " 'more',\n",
              " 'most',\n",
              " 'other',\n",
              " 'some',\n",
              " 'such',\n",
              " 'no',\n",
              " 'nor',\n",
              " 'not',\n",
              " 'only',\n",
              " 'own',\n",
              " 'same',\n",
              " 'so',\n",
              " 'than',\n",
              " 'too',\n",
              " 'very',\n",
              " 's',\n",
              " 't',\n",
              " 'can',\n",
              " 'will',\n",
              " 'just',\n",
              " 'don',\n",
              " \"don't\",\n",
              " 'should',\n",
              " \"should've\",\n",
              " 'now',\n",
              " 'd',\n",
              " 'll',\n",
              " 'm',\n",
              " 'o',\n",
              " 're',\n",
              " 've',\n",
              " 'y',\n",
              " 'ain',\n",
              " 'aren',\n",
              " \"aren't\",\n",
              " 'couldn',\n",
              " \"couldn't\",\n",
              " 'didn',\n",
              " \"didn't\",\n",
              " 'doesn',\n",
              " \"doesn't\",\n",
              " 'hadn',\n",
              " \"hadn't\",\n",
              " 'hasn',\n",
              " \"hasn't\",\n",
              " 'haven',\n",
              " \"haven't\",\n",
              " 'isn',\n",
              " \"isn't\",\n",
              " 'ma',\n",
              " 'mightn',\n",
              " \"mightn't\",\n",
              " 'mustn',\n",
              " \"mustn't\",\n",
              " 'needn',\n",
              " \"needn't\",\n",
              " 'shan',\n",
              " \"shan't\",\n",
              " 'shouldn',\n",
              " \"shouldn't\",\n",
              " 'wasn',\n",
              " \"wasn't\",\n",
              " 'weren',\n",
              " \"weren't\",\n",
              " 'won',\n",
              " \"won't\",\n",
              " 'wouldn',\n",
              " \"wouldn't\"]"
            ]
          },
          "metadata": {},
          "execution_count": 13
        }
      ]
    },
    {
      "cell_type": "code",
      "source": [
        "data =' We will see an example of POS tagging.'\n",
        "\n",
        "pos = nltk.pos_tag(nltk.word_tokenize(data))\n",
        "\n",
        "pos"
      ],
      "metadata": {
        "colab": {
          "base_uri": "https://localhost:8080/"
        },
        "id": "nhDUumQQ4rvd",
        "outputId": "33af0840-14a9-4ff4-8979-2e202d45ddfa"
      },
      "execution_count": null,
      "outputs": [
        {
          "output_type": "execute_result",
          "data": {
            "text/plain": [
              "[('We', 'PRP'),\n",
              " ('will', 'MD'),\n",
              " ('see', 'VB'),\n",
              " ('an', 'DT'),\n",
              " ('example', 'NN'),\n",
              " ('of', 'IN'),\n",
              " ('POS', 'NNP'),\n",
              " ('tagging', 'NN'),\n",
              " ('.', '.')]"
            ]
          },
          "metadata": {},
          "execution_count": 14
        }
      ]
    },
    {
      "cell_type": "code",
      "source": [
        "# We also have punctuations which we can ignore from our set of words just like stopwords.\n",
        "\n",
        "import string\n",
        "import nltk\n",
        "import string\n",
        "from nltk.corpus import stopwords\n",
        "\n",
        "punct =string.punctuation\n",
        "punct"
      ],
      "metadata": {
        "colab": {
          "base_uri": "https://localhost:8080/",
          "height": 35
        },
        "id": "u7y7pHmB45L_",
        "outputId": "4953edf6-de72-4c58-f0cf-95bc58119010"
      },
      "execution_count": null,
      "outputs": [
        {
          "output_type": "execute_result",
          "data": {
            "text/plain": [
              "'!\"#$%&\\'()*+,-./:;<=>?@[\\\\]^_`{|}~'"
            ],
            "application/vnd.google.colaboratory.intrinsic+json": {
              "type": "string"
            }
          },
          "metadata": {},
          "execution_count": 15
        }
      ]
    },
    {
      "cell_type": "code",
      "source": [
        "# Let's word tokenize the given sample after we remove the stopwords and punctuation.\n",
        "stop_words = stopwords.words('english')\n",
        "punct =string.punctuation\n",
        "\n",
        "data = '''Miami Dade College has evolved over decades, becoming a beacon of education in the diverse fabric of Miami. Throughout its existence, students from all corners of the globe have converged here, seeking knowledge and growth. MDC has seen the influx of various cultures, enriching its own identity without dominating any. This hasn't led MDC to impose its ethos elsewhere, but rather to build a unique educational culture that respects the freedom of thought and diversity. This is the cornerstone of my first vision for MDC - freedom in education.'''\n",
        "clean_data =[]\n",
        "\n",
        "for word in nltk.word_tokenize(data):\n",
        "    if word not in punct:\n",
        "        if word not in stop_words:\n",
        "            clean_data.append(word)\n",
        "\n",
        "clean_data"
      ],
      "metadata": {
        "colab": {
          "base_uri": "https://localhost:8080/"
        },
        "id": "9YlM13305A76",
        "outputId": "267719fe-568e-4bed-b84f-e2067d52ff6e"
      },
      "execution_count": null,
      "outputs": [
        {
          "output_type": "execute_result",
          "data": {
            "text/plain": [
              "['Miami',\n",
              " 'Dade',\n",
              " 'College',\n",
              " 'evolved',\n",
              " 'decades',\n",
              " 'becoming',\n",
              " 'beacon',\n",
              " 'education',\n",
              " 'diverse',\n",
              " 'fabric',\n",
              " 'Miami',\n",
              " 'Throughout',\n",
              " 'existence',\n",
              " 'students',\n",
              " 'corners',\n",
              " 'globe',\n",
              " 'converged',\n",
              " 'seeking',\n",
              " 'knowledge',\n",
              " 'growth',\n",
              " 'MDC',\n",
              " 'seen',\n",
              " 'influx',\n",
              " 'various',\n",
              " 'cultures',\n",
              " 'enriching',\n",
              " 'identity',\n",
              " 'without',\n",
              " 'dominating',\n",
              " 'This',\n",
              " \"n't\",\n",
              " 'led',\n",
              " 'MDC',\n",
              " 'impose',\n",
              " 'ethos',\n",
              " 'elsewhere',\n",
              " 'rather',\n",
              " 'build',\n",
              " 'unique',\n",
              " 'educational',\n",
              " 'culture',\n",
              " 'respects',\n",
              " 'freedom',\n",
              " 'thought',\n",
              " 'diversity',\n",
              " 'This',\n",
              " 'cornerstone',\n",
              " 'first',\n",
              " 'vision',\n",
              " 'MDC',\n",
              " 'freedom',\n",
              " 'education']"
            ]
          },
          "metadata": {},
          "execution_count": 16
        }
      ]
    },
    {
      "cell_type": "code",
      "source": [
        "nltk.pos_tag(clean_data)"
      ],
      "metadata": {
        "colab": {
          "base_uri": "https://localhost:8080/"
        },
        "id": "RFtlx76K5a2N",
        "outputId": "8a260115-860d-49c2-d3f2-f1ee3142d9ba"
      },
      "execution_count": null,
      "outputs": [
        {
          "output_type": "execute_result",
          "data": {
            "text/plain": [
              "[('Miami', 'NNP'),\n",
              " ('Dade', 'NNP'),\n",
              " ('College', 'NNP'),\n",
              " ('evolved', 'VBD'),\n",
              " ('decades', 'NNS'),\n",
              " ('becoming', 'VBG'),\n",
              " ('beacon', 'JJ'),\n",
              " ('education', 'NN'),\n",
              " ('diverse', 'NN'),\n",
              " ('fabric', 'NN'),\n",
              " ('Miami', 'NNP'),\n",
              " ('Throughout', 'NNP'),\n",
              " ('existence', 'NN'),\n",
              " ('students', 'NNS'),\n",
              " ('corners', 'NNS'),\n",
              " ('globe', 'VBP'),\n",
              " ('converged', 'VBN'),\n",
              " ('seeking', 'VBG'),\n",
              " ('knowledge', 'NN'),\n",
              " ('growth', 'NN'),\n",
              " ('MDC', 'NNP'),\n",
              " ('seen', 'VBN'),\n",
              " ('influx', 'VBP'),\n",
              " ('various', 'JJ'),\n",
              " ('cultures', 'NNS'),\n",
              " ('enriching', 'VBG'),\n",
              " ('identity', 'NN'),\n",
              " ('without', 'IN'),\n",
              " ('dominating', 'VBG'),\n",
              " ('This', 'DT'),\n",
              " (\"n't\", 'RB'),\n",
              " ('led', 'VBN'),\n",
              " ('MDC', 'NNP'),\n",
              " ('impose', 'VB'),\n",
              " ('ethos', 'NN'),\n",
              " ('elsewhere', 'RB'),\n",
              " ('rather', 'RB'),\n",
              " ('build', 'VB'),\n",
              " ('unique', 'JJ'),\n",
              " ('educational', 'JJ'),\n",
              " ('culture', 'NN'),\n",
              " ('respects', 'VBZ'),\n",
              " ('freedom', 'RB'),\n",
              " ('thought', 'VBN'),\n",
              " ('diversity', 'NN'),\n",
              " ('This', 'DT'),\n",
              " ('cornerstone', 'NN'),\n",
              " ('first', 'JJ'),\n",
              " ('vision', 'NN'),\n",
              " ('MDC', 'NNP'),\n",
              " ('freedom', 'NN'),\n",
              " ('education', 'NN')]"
            ]
          },
          "metadata": {},
          "execution_count": 17
        }
      ]
    },
    {
      "cell_type": "code",
      "source": [
        "pos_tag = nltk.pos_tag(clean_data)\n",
        "namedEntity = nltk.ne_chunk(pos_tag)\n",
        "print(namedEntity)"
      ],
      "metadata": {
        "colab": {
          "base_uri": "https://localhost:8080/"
        },
        "id": "UhGO1CmU5jF-",
        "outputId": "55d0974e-e56d-4e22-f727-2a8f1f798b6f"
      },
      "execution_count": null,
      "outputs": [
        {
          "output_type": "stream",
          "name": "stdout",
          "text": [
            "(S\n",
            "  (PERSON Miami/NNP)\n",
            "  (PERSON Dade/NNP College/NNP)\n",
            "  evolved/VBD\n",
            "  decades/NNS\n",
            "  becoming/VBG\n",
            "  beacon/JJ\n",
            "  education/NN\n",
            "  diverse/NN\n",
            "  fabric/NN\n",
            "  (PERSON Miami/NNP Throughout/NNP)\n",
            "  existence/NN\n",
            "  students/NNS\n",
            "  corners/NNS\n",
            "  globe/VBP\n",
            "  converged/VBN\n",
            "  seeking/VBG\n",
            "  knowledge/NN\n",
            "  growth/NN\n",
            "  (ORGANIZATION MDC/NNP)\n",
            "  seen/VBN\n",
            "  influx/VBP\n",
            "  various/JJ\n",
            "  cultures/NNS\n",
            "  enriching/VBG\n",
            "  identity/NN\n",
            "  without/IN\n",
            "  dominating/VBG\n",
            "  This/DT\n",
            "  n't/RB\n",
            "  led/VBN\n",
            "  (ORGANIZATION MDC/NNP)\n",
            "  impose/VB\n",
            "  ethos/NN\n",
            "  elsewhere/RB\n",
            "  rather/RB\n",
            "  build/VB\n",
            "  unique/JJ\n",
            "  educational/JJ\n",
            "  culture/NN\n",
            "  respects/VBZ\n",
            "  freedom/RB\n",
            "  thought/VBN\n",
            "  diversity/NN\n",
            "  This/DT\n",
            "  cornerstone/NN\n",
            "  first/JJ\n",
            "  vision/NN\n",
            "  (ORGANIZATION MDC/NNP)\n",
            "  freedom/NN\n",
            "  education/NN)\n"
          ]
        }
      ]
    },
    {
      "cell_type": "markdown",
      "source": [
        "# Word Vectorization\n",
        "## the process of mapping words to a set of real numbers (vectors)\n",
        "\n",
        "### Reviews\n",
        "- Review 1: This movie is very scary and long\n",
        "- Review 2: This movie is not scary and is slow\n",
        "- Review 3: This movie is spooky and good\n",
        "\n",
        "### BoW representation of these reviews:\n",
        "- Vector of Review 1: [1 1 1 1 1 1 1 0 0 0 0]\n",
        "- Vector of Review 2: [1 1 2 0 1 1 0 1 1 0 0]\n",
        "- Vector of Review 3: [1 1 1 0 0 1 0 0 0 1 1]\n",
        "\n",
        "\n",
        "## Bag of Words - Vectorize the data\n",
        "\n",
        "#### truism :  Natural Language Processing REQUIRES all words be converted in to numbers!  One way to do that is through the BoW algorithm.\n"
      ],
      "metadata": {
        "id": "Nrzfdnlj6JnP"
      }
    },
    {
      "cell_type": "code",
      "source": [
        "data = \"\"\" The reader of this course should have a basic knowledge of the Python programming lenguage.\n",
        "He/she must have knowldge of data types in Python.He should be able to write functions,\n",
        " and also have the ability to import and use libraries and packages in Python. Familiarity\n",
        " with basic linguistics and probability is assumed although not required to fully\n",
        " complete this course. \"\"\""
      ],
      "metadata": {
        "id": "54malGCq6Hto"
      },
      "execution_count": null,
      "outputs": []
    }
  ]
}